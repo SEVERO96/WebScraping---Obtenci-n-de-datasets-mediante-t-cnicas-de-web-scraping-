{
 "cells": [
  {
   "cell_type": "code",
   "execution_count": 2,
   "metadata": {},
   "outputs": [
    {
     "name": "stdout",
     "output_type": "stream",
     "text": [
      "Written to .\\art_1.html\n",
      "Written to .\\art_2.html\n",
      "Written to .\\art_3.html\n",
      "Written to .\\art_4.html\n",
      "Written to .\\art_5.html\n",
      "Written to .\\art_6.html\n",
      "Written to .\\art_7.html\n",
      "Written to .\\art_8.html\n",
      "Written to .\\art_9.html\n",
      "Written to .\\art_10.html\n",
      "Written to .\\art_11.html\n",
      "Written to .\\art_12.html\n",
      "Written to .\\art_12a.html\n",
      "Written to .\\art_13.html\n",
      "Written to .\\art_14.html\n",
      "Written to .\\art_15.html\n",
      "Written to .\\art_16.html\n",
      "Written to .\\art_16a.html\n",
      "Written to .\\art_17.html\n",
      "Written to .\\art_17a.html\n",
      "Written to .\\art_18.html\n",
      "Written to .\\art_19.html\n"
     ]
    }
   ],
   "source": [
    "from os import path\n",
    "from pathlib import PurePath\n",
    "\n",
    "import requests\n",
    "\n",
    "with open('urls.txt', 'r') as fh:\n",
    "    urls = fh.readlines()\n",
    "urls = [url.strip() for url in urls]  # strip `\\n`\n",
    "\n",
    "for url in urls:\n",
    "    file_name = PurePath(url).name\n",
    "    file_path = path.join('.', file_name)\n",
    "    text = ''\n",
    "\n",
    "    try:\n",
    "        response = requests.get(url)\n",
    "        if response.ok:\n",
    "            text = response.text\n",
    "    except requests.exceptions.ConnectionError as exc:\n",
    "        print(exc)\n",
    "    \n",
    "    with open(file_path, 'w') as fh:\n",
    "        fh.write(text)\n",
    "\n",
    "    print('Written to', file_path)"
   ]
  }
 ],
 "metadata": {
  "kernelspec": {
   "display_name": "Python 3.10.7 64-bit",
   "language": "python",
   "name": "python3"
  },
  "language_info": {
   "codemirror_mode": {
    "name": "ipython",
    "version": 3
   },
   "file_extension": ".py",
   "mimetype": "text/x-python",
   "name": "python",
   "nbconvert_exporter": "python",
   "pygments_lexer": "ipython3",
   "version": "3.10.7"
  },
  "orig_nbformat": 4,
  "vscode": {
   "interpreter": {
    "hash": "0b314fa8a1936260c0e76a98bbf434964b465e055101ea849ac3705d71a02edb"
   }
  }
 },
 "nbformat": 4,
 "nbformat_minor": 2
}
