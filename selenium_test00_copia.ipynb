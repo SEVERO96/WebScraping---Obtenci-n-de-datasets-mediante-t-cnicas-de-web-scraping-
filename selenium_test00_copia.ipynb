{
  "cells": [
    {
      "cell_type": "markdown",
      "metadata": {
        "nteract": {
          "transient": {
            "deleting": false
          }
        }
      },
      "source": [
        "# Web scraping con Python y Selenium - Quotes.toscrape.com\n",
        "---\n",
        "basado en el tutorial https://doc.scrapy.org/en/latest/intro/tutorial.html\n",
        "<br/> y el videoDEMO \"Data Scraping and Data Mining from Beginner to Pro with Python\" en: https://subscription.packtpub.com/video/data/9781801818483/p7/video7_1/introduction-to-selenium \n",
        "\n",
        "\n"
      ]
    },
    {
      "cell_type": "code",
      "execution_count": 40,
      "metadata": {
        "collapsed": true,
        "jupyter": {
          "outputs_hidden": false,
          "source_hidden": false
        },
        "nteract": {
          "transient": {
            "deleting": false
          }
        }
      },
      "outputs": [],
      "source": [
        "# IMPORTANTE:\n",
        "# Selenium necesita generar una instancia local del chromium \n",
        "#     que debe ser de la misma version que el chrome que se tenga instalado en la PC \n",
        "#  Por lo que es importante verificar la version del chrome y descargar del driver de webdriver\n",
        "#     mi version actual, se puede checar dentro de las opciones del chrome en: \n",
        "#       \"Ayuda/Acerca de Google Chrome\"\n",
        "#   Versión 106.0.5249.119 (Build oficial) (64 bits)\n",
        "#   Versión 106.0.5249.119 (Build oficial) (64 bits)\n",
        "#\n",
        "#  Para descargar el webdriver, hay que buscarlo y descargar segun respectivo Os (linux,OSx,Win32)\n",
        "#       https://chromedriver.storage.googleapis.com/index.html?\n",
        "\n"
      ]
    },
    {
      "cell_type": "code",
      "execution_count": 41,
      "metadata": {
        "collapsed": true,
        "execution": {
          "iopub.execute_input": "2022-10-28T16:48:06.166Z",
          "iopub.status.busy": "2022-10-28T16:48:06.151Z",
          "iopub.status.idle": "2022-10-28T16:48:08.445Z",
          "shell.execute_reply": "2022-10-28T16:48:08.476Z"
        },
        "jupyter": {
          "outputs_hidden": false,
          "source_hidden": false
        },
        "nteract": {
          "transient": {
            "deleting": false
          }
        }
      },
      "outputs": [],
      "source": [
        "# importacion de librerias y configuracion del web driver\n",
        "\n",
        "from selenium.webdriver import Chrome\n",
        "import pandas as pd\n",
        "import scrapy\n",
        "from selenium.webdriver.common.by import By\n",
        "# esta librería se agregó despues por problema de nueva version de Selenium  --ver abajo--\n",
        "from selenium.webdriver.common.by import By\n",
        "\n",
        "\n",
        "\n"
      ]
    },
    {
      "cell_type": "code",
      "execution_count": 42,
      "metadata": {
        "collapsed": true,
        "execution": {
          "iopub.execute_input": "2022-10-28T16:48:19.049Z",
          "iopub.status.busy": "2022-10-28T16:48:19.034Z",
          "iopub.status.idle": "2022-10-28T16:48:20.048Z",
          "shell.execute_reply": "2022-10-28T16:48:20.064Z"
        },
        "jupyter": {
          "outputs_hidden": false,
          "source_hidden": false
        },
        "nteract": {
          "transient": {
            "deleting": false
          }
        }
      },
      "outputs": [
        {
          "name": "stderr",
          "output_type": "stream",
          "text": [
            "C:\\Users\\Sevix\\AppData\\Local\\Temp\\ipykernel_13028\\752635071.py:21: DeprecationWarning: executable_path has been deprecated, please pass in a Service object\n",
            "  driver = Chrome(webdriver)\n"
          ]
        },
        {
          "name": "stdout",
          "output_type": "stream",
          "text": [
            "<selenium.webdriver.chrome.webdriver.WebDriver (session=\"281dfe26fa2f76b54be2fe533b7e7172\")>\n",
            "--- done page 1!.... \n"
          ]
        },
        {
          "name": "stderr",
          "output_type": "stream",
          "text": [
            "C:\\Users\\Sevix\\AppData\\Local\\Temp\\ipykernel_13028\\752635071.py:21: DeprecationWarning: executable_path has been deprecated, please pass in a Service object\n",
            "  driver = Chrome(webdriver)\n"
          ]
        },
        {
          "name": "stdout",
          "output_type": "stream",
          "text": [
            "<selenium.webdriver.chrome.webdriver.WebDriver (session=\"d9c087f2bebae2e7e83de297b042114a\")>\n",
            "--- done page 2!.... \n"
          ]
        },
        {
          "name": "stderr",
          "output_type": "stream",
          "text": [
            "C:\\Users\\Sevix\\AppData\\Local\\Temp\\ipykernel_13028\\752635071.py:21: DeprecationWarning: executable_path has been deprecated, please pass in a Service object\n",
            "  driver = Chrome(webdriver)\n"
          ]
        },
        {
          "name": "stdout",
          "output_type": "stream",
          "text": [
            "<selenium.webdriver.chrome.webdriver.WebDriver (session=\"0d50280e4f1cf933b6c46caac87dff63\")>\n",
            "--- done page 3!.... \n"
          ]
        },
        {
          "name": "stderr",
          "output_type": "stream",
          "text": [
            "C:\\Users\\Sevix\\AppData\\Local\\Temp\\ipykernel_13028\\752635071.py:21: DeprecationWarning: executable_path has been deprecated, please pass in a Service object\n",
            "  driver = Chrome(webdriver)\n"
          ]
        },
        {
          "name": "stdout",
          "output_type": "stream",
          "text": [
            "<selenium.webdriver.chrome.webdriver.WebDriver (session=\"680ca421a3913476bb4294b376c0d4ae\")>\n",
            "--- done page 4!.... \n"
          ]
        },
        {
          "name": "stderr",
          "output_type": "stream",
          "text": [
            "C:\\Users\\Sevix\\AppData\\Local\\Temp\\ipykernel_13028\\752635071.py:21: DeprecationWarning: executable_path has been deprecated, please pass in a Service object\n",
            "  driver = Chrome(webdriver)\n"
          ]
        },
        {
          "name": "stdout",
          "output_type": "stream",
          "text": [
            "<selenium.webdriver.chrome.webdriver.WebDriver (session=\"0b71b46bb05ad1515719532022981dee\")>\n",
            "--- done page 5!.... \n"
          ]
        },
        {
          "name": "stderr",
          "output_type": "stream",
          "text": [
            "C:\\Users\\Sevix\\AppData\\Local\\Temp\\ipykernel_13028\\752635071.py:21: DeprecationWarning: executable_path has been deprecated, please pass in a Service object\n",
            "  driver = Chrome(webdriver)\n"
          ]
        },
        {
          "name": "stdout",
          "output_type": "stream",
          "text": [
            "<selenium.webdriver.chrome.webdriver.WebDriver (session=\"80efa019f298fc4e32d6c5436f9acac7\")>\n",
            "--- done page 6!.... \n"
          ]
        },
        {
          "name": "stderr",
          "output_type": "stream",
          "text": [
            "C:\\Users\\Sevix\\AppData\\Local\\Temp\\ipykernel_13028\\752635071.py:21: DeprecationWarning: executable_path has been deprecated, please pass in a Service object\n",
            "  driver = Chrome(webdriver)\n"
          ]
        },
        {
          "name": "stdout",
          "output_type": "stream",
          "text": [
            "<selenium.webdriver.chrome.webdriver.WebDriver (session=\"ea53f7c2b7b343ccd1ce27c7ea251916\")>\n",
            "--- done page 7!.... \n"
          ]
        },
        {
          "name": "stderr",
          "output_type": "stream",
          "text": [
            "C:\\Users\\Sevix\\AppData\\Local\\Temp\\ipykernel_13028\\752635071.py:21: DeprecationWarning: executable_path has been deprecated, please pass in a Service object\n",
            "  driver = Chrome(webdriver)\n"
          ]
        },
        {
          "name": "stdout",
          "output_type": "stream",
          "text": [
            "<selenium.webdriver.chrome.webdriver.WebDriver (session=\"24d772de42dfc2be430774f84a39181a\")>\n",
            "--- done page 8!.... \n"
          ]
        },
        {
          "name": "stderr",
          "output_type": "stream",
          "text": [
            "C:\\Users\\Sevix\\AppData\\Local\\Temp\\ipykernel_13028\\752635071.py:21: DeprecationWarning: executable_path has been deprecated, please pass in a Service object\n",
            "  driver = Chrome(webdriver)\n"
          ]
        },
        {
          "name": "stdout",
          "output_type": "stream",
          "text": [
            "<selenium.webdriver.chrome.webdriver.WebDriver (session=\"55a28146d168196435e086013a1315fd\")>\n",
            "--- done page 9!.... \n"
          ]
        },
        {
          "name": "stderr",
          "output_type": "stream",
          "text": [
            "C:\\Users\\Sevix\\AppData\\Local\\Temp\\ipykernel_13028\\752635071.py:21: DeprecationWarning: executable_path has been deprecated, please pass in a Service object\n",
            "  driver = Chrome(webdriver)\n"
          ]
        },
        {
          "name": "stdout",
          "output_type": "stream",
          "text": [
            "<selenium.webdriver.chrome.webdriver.WebDriver (session=\"a88179bd3df3cb10c3070f4e4b7a437a\")>\n",
            "--- done page 10!.... \n"
          ]
        }
      ],
      "source": [
        "# rutina principal\n",
        "urls = [\n",
        "        'https://quotes.toscrape.com/page/1/',\n",
        "        'https://quotes.toscrape.com/page/2/',\n",
        "        'https://quotes.toscrape.com/page/3/',\n",
        "        'https://quotes.toscrape.com/page/4/',\n",
        "        'https://quotes.toscrape.com/page/5/',\n",
        "        'https://quotes.toscrape.com/page/6/',\n",
        "        'https://quotes.toscrape.com/page/7/',\n",
        "        'https://quotes.toscrape.com/page/8/',\n",
        "        'https://quotes.toscrape.com/page/9/',\n",
        "        'https://quotes.toscrape.com/page/10/',\n",
        "    ]\n",
        "#url = \"http://quotes.toscrape.com/page/N/\"   URL dinámico para pagina de resultados\n",
        "cont = 0\n",
        "for url in urls:\n",
        "    # ruta del archivo del webdriver correspondiente a version local del chrome\n",
        "    webdriver = \"C:/Users/Sevix/Documents/datescience/AS11-TP10/chromedriver_win32/chromedriver.exe\"\n",
        "\n",
        "    # instanciar el browser\n",
        "    driver = Chrome(webdriver)\n",
        "\n",
        "    #imprimir tag de instancia del webdriver\n",
        "    print(driver)\n",
        "    # acceder a la pagina indicada en el URL\n",
        "    cont = cont + 1\n",
        "    driver.get(url)\n",
        "    driver.current_url\n",
        "    # acceder a un nodo/bloque en particular. En este claso el div que tiene todas las citas\n",
        "    quotes = driver.find_elements(By.CLASS_NAME,\"quote\")\n",
        "    quotes[0].text \n",
        "    #quotes = driver.find_elements_by_class_name(\"quote\")\n",
        "    # continuación de rutina principal\n",
        "    #  Por cada quote en Quotes, extraer datos particulares \n",
        "    total = []\n",
        "    for quote in quotes:\n",
        "        #  Aquí se tendrá que ADAPTAR para que funcione con nueva version de Selenium\n",
        "        #  checar https://stackoverflow.com/questions/72773206/selenium-python-attributeerror-webdriver-object-has-no-attribute-find-el\n",
        "        cita_text = quote.find_element(By.CLASS_NAME,\"text\").text[1:-2]\n",
        "        author = quote.find_element(By.CLASS_NAME, \"author\").text\n",
        "        tags = quote.find_element(By.CLASS_NAME, \"tags\").text\n",
        "        # agregar para extraer cada \"Tag\", generalmente son más de una...\n",
        "        new = ((cita_text,author,tags))\n",
        "        total.append(new)\n",
        "        # se cierra el browser/webdriver\n",
        "    driver.close()\n",
        "\n",
        "    #se instancia un dataframe con los datos en memoria\n",
        "    df = pd.DataFrame(total,columns=['quote','author','tags'])\n",
        "    # se graba en disco el Dataframe en formato CSV\n",
        "    df.to_csv('C:/Users/Sevix/Documents/datescience/AS11-TP10/dataset/quoted_page'+str(cont)+'.csv')\n",
        "\n",
        "\n",
        "    print('--- done page '+str(cont)+ '!.... ')\n",
        "\n",
        "\n"
      ]
    }
  ],
  "metadata": {
    "kernel_info": {
      "name": "python3"
    },
    "kernelspec": {
      "display_name": "Python 3.10.7 64-bit",
      "language": "python",
      "name": "python3"
    },
    "language_info": {
      "codemirror_mode": {
        "name": "ipython",
        "version": 3
      },
      "file_extension": ".py",
      "mimetype": "text/x-python",
      "name": "python",
      "nbconvert_exporter": "python",
      "pygments_lexer": "ipython3",
      "version": "3.10.7"
    },
    "nteract": {
      "version": "0.28.0"
    },
    "vscode": {
      "interpreter": {
        "hash": "0b314fa8a1936260c0e76a98bbf434964b465e055101ea849ac3705d71a02edb"
      }
    }
  },
  "nbformat": 4,
  "nbformat_minor": 0
}
