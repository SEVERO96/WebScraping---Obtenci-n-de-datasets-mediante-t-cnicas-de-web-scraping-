{
  "cells": [
    {
      "cell_type": "markdown",
      "metadata": {
        "nteract": {
          "transient": {
            "deleting": false
          }
        }
      },
      "source": [
        "# Web scraping con Python y Selenium - Quotes.toscrape.com\n",
        "---\n",
        "basado en el tutorial https://doc.scrapy.org/en/latest/intro/tutorial.html\n",
        "<br/> y el videoDEMO \"Data Scraping and Data Mining from Beginner to Pro with Python\" en: https://subscription.packtpub.com/video/data/9781801818483/p7/video7_1/introduction-to-selenium \n",
        "\n",
        "\n"
      ]
    },
    {
      "cell_type": "code",
      "execution_count": 33,
      "metadata": {
        "collapsed": true,
        "jupyter": {
          "outputs_hidden": false,
          "source_hidden": false
        },
        "nteract": {
          "transient": {
            "deleting": false
          }
        }
      },
      "outputs": [],
      "source": [
        "# IMPORTANTE:\n",
        "# Selenium necesita generar una instancia local del chromium \n",
        "#     que debe ser de la misma version que el chrome que se tenga instalado en la PC \n",
        "#  Por lo que es importante verificar la version del chrome y descargar del driver de webdriver\n",
        "#     mi version actual, se puede checar dentro de las opciones del chrome en: \n",
        "#       \"Ayuda/Acerca de Google Chrome\"\n",
        "#   Versión 106.0.5249.119 (Build oficial) (64 bits)\n",
        "#   Versión 106.0.5249.119 (Build oficial) (64 bits)\n",
        "#\n",
        "#  Para descargar el webdriver, hay que buscarlo y descargar segun respectivo Os (linux,OSx,Win32)\n",
        "#       https://chromedriver.storage.googleapis.com/index.html?\n",
        "\n"
      ]
    },
    {
      "cell_type": "code",
      "execution_count": 34,
      "metadata": {
        "collapsed": true,
        "execution": {
          "iopub.execute_input": "2022-10-28T16:48:06.166Z",
          "iopub.status.busy": "2022-10-28T16:48:06.151Z",
          "iopub.status.idle": "2022-10-28T16:48:08.445Z",
          "shell.execute_reply": "2022-10-28T16:48:08.476Z"
        },
        "jupyter": {
          "outputs_hidden": false,
          "source_hidden": false
        },
        "nteract": {
          "transient": {
            "deleting": false
          }
        }
      },
      "outputs": [
        {
          "name": "stderr",
          "output_type": "stream",
          "text": [
            "C:\\Users\\Sevix\\AppData\\Local\\Temp\\ipykernel_13028\\1621677860.py:14: DeprecationWarning: executable_path has been deprecated, please pass in a Service object\n",
            "  driver = Chrome(webdriver)\n"
          ]
        },
        {
          "name": "stdout",
          "output_type": "stream",
          "text": [
            "<selenium.webdriver.chrome.webdriver.WebDriver (session=\"f7ef26c3a1b2e764780ae2c3b76e02c0\")>\n"
          ]
        }
      ],
      "source": [
        "# importacion de librerias y configuracion del web driver\n",
        "\n",
        "from selenium.webdriver import Chrome\n",
        "import pandas as pd\n",
        "import scrapy\n",
        "from selenium.webdriver.common.by import By\n",
        "# esta librería se agregó despues por problema de nueva version de Selenium  --ver abajo--\n",
        "from selenium.webdriver.common.by import By\n",
        "\n",
        "# ruta del archivo del webdriver correspondiente a version local del chrome\n",
        "webdriver = \"C:/Users/Sevix/Documents/datescience/AS11-TP10/chromedriver_win32/chromedriver.exe\"\n",
        "\n",
        "# instanciar el browser\n",
        "driver = Chrome(webdriver)\n",
        "\n",
        "#imprimir tag de instancia del webdriver\n",
        "print(driver)\n",
        "\n"
      ]
    },
    {
      "cell_type": "code",
      "execution_count": 35,
      "metadata": {
        "collapsed": true,
        "execution": {
          "iopub.execute_input": "2022-10-28T16:48:19.049Z",
          "iopub.status.busy": "2022-10-28T16:48:19.034Z",
          "iopub.status.idle": "2022-10-28T16:48:20.048Z",
          "shell.execute_reply": "2022-10-28T16:48:20.064Z"
        },
        "jupyter": {
          "outputs_hidden": false,
          "source_hidden": false
        },
        "nteract": {
          "transient": {
            "deleting": false
          }
        }
      },
      "outputs": [
        {
          "ename": "TypeError",
          "evalue": "can only concatenate str (not \"int\") to str",
          "output_type": "error",
          "traceback": [
            "\u001b[1;31m---------------------------------------------------------------------------\u001b[0m",
            "\u001b[1;31mTypeError\u001b[0m                                 Traceback (most recent call last)",
            "Cell \u001b[1;32mIn [35], line 35\u001b[0m\n\u001b[0;32m     33\u001b[0m df \u001b[39m=\u001b[39m pd\u001b[39m.\u001b[39mDataFrame(total,columns\u001b[39m=\u001b[39m[\u001b[39m'\u001b[39m\u001b[39mquote\u001b[39m\u001b[39m'\u001b[39m,\u001b[39m'\u001b[39m\u001b[39mauthor\u001b[39m\u001b[39m'\u001b[39m,\u001b[39m'\u001b[39m\u001b[39mtags\u001b[39m\u001b[39m'\u001b[39m])\n\u001b[0;32m     34\u001b[0m \u001b[39m# se graba en disco el Dataframe en formato CSV\u001b[39;00m\n\u001b[1;32m---> 35\u001b[0m df\u001b[39m.\u001b[39mto_csv(\u001b[39m'\u001b[39;49m\u001b[39mquoted_page\u001b[39;49m\u001b[39m%\u001b[39;49m\u001b[39m'\u001b[39;49m\u001b[39m+\u001b[39;49mcont\u001b[39m+\u001b[39m\u001b[39m'\u001b[39m\u001b[39m.csv\u001b[39m\u001b[39m'\u001b[39m)\n\u001b[0;32m     38\u001b[0m \u001b[39mprint\u001b[39m(\u001b[39m'\u001b[39m\u001b[39m--- done page \u001b[39m\u001b[39m'\u001b[39m\u001b[39m+\u001b[39mcont\u001b[39m+\u001b[39m \u001b[39m'\u001b[39m\u001b[39m!.... \u001b[39m\u001b[39m'\u001b[39m)\n",
            "\u001b[1;31mTypeError\u001b[0m: can only concatenate str (not \"int\") to str"
          ]
        }
      ],
      "source": [
        "# rutina principal\n",
        "urls = [\n",
        "        'https://quotes.toscrape.com/page/1/',\n",
        "        'https://quotes.toscrape.com/page/2/',\n",
        "    ]\n",
        "#url = \"http://quotes.toscrape.com/page/N/\"   URL dinámico para pagina de resultados\n",
        "cont = 0\n",
        "for url in urls:\n",
        "    # acceder a la pagina indicada en el URL\n",
        "    cont = cont + 1\n",
        "    driver.get(url)\n",
        "    driver.current_url\n",
        "    # acceder a un nodo/bloque en particular. En este claso el div que tiene todas las citas\n",
        "    quotes = driver.find_elements(By.CLASS_NAME,\"quote\")\n",
        "    quotes[0].text \n",
        "    #quotes = driver.find_elements_by_class_name(\"quote\")\n",
        "    # continuación de rutina principal\n",
        "    #  Por cada quote en Quotes, extraer datos particulares \n",
        "    total = []\n",
        "    for quote in quotes:\n",
        "        #  Aquí se tendrá que ADAPTAR para que funcione con nueva version de Selenium\n",
        "        #  checar https://stackoverflow.com/questions/72773206/selenium-python-attributeerror-webdriver-object-has-no-attribute-find-el\n",
        "        cita_text = quote.find_element(By.CLASS_NAME,\"text\").text[1:-2]\n",
        "        author = quote.find_element(By.CLASS_NAME, \"author\").text\n",
        "        tags = quote.find_element(By.CLASS_NAME, \"tags\").text\n",
        "        # agregar para extraer cada \"Tag\", generalmente son más de una...\n",
        "        new = ((cita_text,author,tags))\n",
        "        total.append(new)\n",
        "        # se cierra el browser/webdriver\n",
        "    driver.close()\n",
        "\n",
        "    #se instancia un dataframe con los datos en memoria\n",
        "    df = pd.DataFrame(total,columns=['quote','author','tags'])\n",
        "    # se graba en disco el Dataframe en formato CSV\n",
        "    df.to_csv('quoted_page%'+str(cont)+'.csv')\n",
        "\n",
        "\n",
        "    print('--- done page '+str(cont)+ '!.... ')\n",
        "\n",
        "\n"
      ]
    }
  ],
  "metadata": {
    "kernel_info": {
      "name": "python3"
    },
    "kernelspec": {
      "display_name": "Python 3.10.7 64-bit",
      "language": "python",
      "name": "python3"
    },
    "language_info": {
      "codemirror_mode": {
        "name": "ipython",
        "version": 3
      },
      "file_extension": ".py",
      "mimetype": "text/x-python",
      "name": "python",
      "nbconvert_exporter": "python",
      "pygments_lexer": "ipython3",
      "version": "3.10.7"
    },
    "nteract": {
      "version": "0.28.0"
    },
    "vscode": {
      "interpreter": {
        "hash": "0b314fa8a1936260c0e76a98bbf434964b465e055101ea849ac3705d71a02edb"
      }
    }
  },
  "nbformat": 4,
  "nbformat_minor": 0
}
