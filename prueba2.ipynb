{
 "cells": [
  {
   "cell_type": "code",
   "execution_count": 2,
   "metadata": {},
   "outputs": [
    {
     "ename": "TypeError",
     "evalue": "QuotesSpider.parse() missing 2 required positional arguments: 'self' and 'response'",
     "output_type": "error",
     "traceback": [
      "\u001b[1;31m---------------------------------------------------------------------------\u001b[0m",
      "\u001b[1;31mTypeError\u001b[0m                                 Traceback (most recent call last)",
      "Cell \u001b[1;32mIn [2], line 5\u001b[0m\n\u001b[0;32m      1\u001b[0m \u001b[39mfrom\u001b[39;00m \u001b[39mmatplotlib\u001b[39;00m\u001b[39m.\u001b[39;00m\u001b[39mpyplot\u001b[39;00m \u001b[39mimport\u001b[39;00m spring\n\u001b[0;32m      2\u001b[0m \u001b[39mimport\u001b[39;00m \u001b[39mscrapy\u001b[39;00m\n\u001b[1;32m----> 5\u001b[0m \u001b[39mclass\u001b[39;00m \u001b[39mQuotesSpider\u001b[39;00m(scrapy\u001b[39m.\u001b[39mSpider):\n\u001b[0;32m      6\u001b[0m     name \u001b[39m=\u001b[39m \u001b[39m\"\u001b[39m\u001b[39mquotes\u001b[39m\u001b[39m\"\u001b[39m\n\u001b[0;32m      7\u001b[0m     start_urls \u001b[39m=\u001b[39m [\n\u001b[0;32m      8\u001b[0m         \u001b[39m'\u001b[39m\u001b[39mhttps://quotes.toscrape.com/page/1/\u001b[39m\u001b[39m'\u001b[39m,\n\u001b[0;32m      9\u001b[0m         \u001b[39m'\u001b[39m\u001b[39mhttps://quotes.toscrape.com/page/2/\u001b[39m\u001b[39m'\u001b[39m,\n\u001b[0;32m     10\u001b[0m     ]\n",
      "Cell \u001b[1;32mIn [2], line 19\u001b[0m, in \u001b[0;36mQuotesSpider\u001b[1;34m()\u001b[0m\n\u001b[0;32m     13\u001b[0m     \u001b[39mfor\u001b[39;00m quote \u001b[39min\u001b[39;00m response\u001b[39m.\u001b[39mcss(\u001b[39m'\u001b[39m\u001b[39mdiv.quote\u001b[39m\u001b[39m'\u001b[39m):\n\u001b[0;32m     14\u001b[0m         \u001b[39myield\u001b[39;00m {\n\u001b[0;32m     15\u001b[0m             \u001b[39m'\u001b[39m\u001b[39mtext\u001b[39m\u001b[39m'\u001b[39m: quote\u001b[39m.\u001b[39mcss(\u001b[39m'\u001b[39m\u001b[39mspan.text::text\u001b[39m\u001b[39m'\u001b[39m)\u001b[39m.\u001b[39mget(),\n\u001b[0;32m     16\u001b[0m             \u001b[39m'\u001b[39m\u001b[39mauthor\u001b[39m\u001b[39m'\u001b[39m: quote\u001b[39m.\u001b[39mcss(\u001b[39m'\u001b[39m\u001b[39msmall.author::text\u001b[39m\u001b[39m'\u001b[39m)\u001b[39m.\u001b[39mget(),\n\u001b[0;32m     17\u001b[0m             \u001b[39m'\u001b[39m\u001b[39mtags\u001b[39m\u001b[39m'\u001b[39m: quote\u001b[39m.\u001b[39mcss(\u001b[39m'\u001b[39m\u001b[39mdiv.tags a.tag::text\u001b[39m\u001b[39m'\u001b[39m)\u001b[39m.\u001b[39mgetall(),\n\u001b[0;32m     18\u001b[0m         }\n\u001b[1;32m---> 19\u001b[0m \u001b[39mprint\u001b[39m(parse())\n",
      "\u001b[1;31mTypeError\u001b[0m: QuotesSpider.parse() missing 2 required positional arguments: 'self' and 'response'"
     ]
    }
   ],
   "source": [
    "from matplotlib.pyplot import spring\n",
    "import scrapy\n",
    "\n",
    "\n",
    "class QuotesSpider(scrapy.Spider):\n",
    "    name = \"quotes\"\n",
    "    start_urls = [\n",
    "        'https://quotes.toscrape.com/page/1/',\n",
    "        'https://quotes.toscrape.com/page/2/',\n",
    "    ]\n",
    "\n",
    "    def parse(self, response):\n",
    "        for quote in response.css('div.quote'):\n",
    "            yield {\n",
    "                'text': quote.css('span.text::text').get(),\n",
    "                'author': quote.css('small.author::text').get(),\n",
    "                'tags': quote.css('div.tags a.tag::text').getall(),\n",
    "            }\n",
    "        print(yield)"
   ]
  }
 ],
 "metadata": {
  "kernelspec": {
   "display_name": "Python 3.10.7 64-bit",
   "language": "python",
   "name": "python3"
  },
  "language_info": {
   "codemirror_mode": {
    "name": "ipython",
    "version": 3
   },
   "file_extension": ".py",
   "mimetype": "text/x-python",
   "name": "python",
   "nbconvert_exporter": "python",
   "pygments_lexer": "ipython3",
   "version": "3.10.7"
  },
  "orig_nbformat": 4,
  "vscode": {
   "interpreter": {
    "hash": "0b314fa8a1936260c0e76a98bbf434964b465e055101ea849ac3705d71a02edb"
   }
  }
 },
 "nbformat": 4,
 "nbformat_minor": 2
}
